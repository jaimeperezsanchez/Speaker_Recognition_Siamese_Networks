{
  "nbformat": 4,
  "nbformat_minor": 0,
  "metadata": {
    "colab": {
      "name": "Copia de VGGish_Embeddings_LibriSpeech.ipynb",
      "provenance": [],
      "collapsed_sections": []
    },
    "kernelspec": {
      "name": "python2",
      "display_name": "Python 2"
    }
  },
  "cells": [
    {
      "cell_type": "code",
      "metadata": {
        "id": "-3G7n0mXR_0i",
        "colab_type": "code",
        "outputId": "8653d129-f684-4dd7-be01-d1e0ce864631",
        "colab": {
          "base_uri": "https://localhost:8080/",
          "height": 134
        }
      },
      "source": [
        "from google.colab import drive\n",
        "drive.mount('/content/drive')\n"
      ],
      "execution_count": 0,
      "outputs": [
        {
          "output_type": "stream",
          "text": [
            "Go to this URL in a browser: https://accounts.google.com/o/oauth2/auth?client_id=947318989803-6bn6qk8qdgf4n4g3pfee6491hc0brc4i.apps.googleusercontent.com&redirect_uri=urn%3aietf%3awg%3aoauth%3a2.0%3aoob&response_type=code&scope=email%20https%3a%2f%2fwww.googleapis.com%2fauth%2fdocs.test%20https%3a%2f%2fwww.googleapis.com%2fauth%2fdrive%20https%3a%2f%2fwww.googleapis.com%2fauth%2fdrive.photos.readonly%20https%3a%2f%2fwww.googleapis.com%2fauth%2fpeopleapi.readonly\n",
            "\n",
            "Enter your authorization code:\n",
            "··········\n",
            "Mounted at /content/drive\n"
          ],
          "name": "stdout"
        }
      ]
    },
    {
      "cell_type": "code",
      "metadata": {
        "id": "cCQROJOnULIC",
        "colab_type": "code",
        "outputId": "e591d631-b986-411f-adb7-742b53a80071",
        "colab": {
          "base_uri": "https://localhost:8080/",
          "height": 36
        }
      },
      "source": [
        "from google_drive_downloader import GoogleDriveDownloader as gdd\n",
        "\n",
        "gdd.download_file_from_google_drive(file_id='1hvSlzsdCrv7m8VCSeQutWX_jlkonxlkP',\n",
        "                                    dest_path='./Data_samples.zip',\n",
        "                                    unzip=False)\n",
        "file_name = 'Data_samples.zip'"
      ],
      "execution_count": 0,
      "outputs": [
        {
          "output_type": "stream",
          "text": [
            "Downloading 1hvSlzsdCrv7m8VCSeQutWX_jlkonxlkP into ./Data_samples.zip... Done.\n"
          ],
          "name": "stdout"
        }
      ]
    },
    {
      "cell_type": "code",
      "metadata": {
        "id": "NYUGEmgoV8jk",
        "colab_type": "code",
        "colab": {}
      },
      "source": [
        "! unzip -q -o $file_name"
      ],
      "execution_count": 0,
      "outputs": []
    },
    {
      "cell_type": "code",
      "metadata": {
        "id": "fGuHZDFWXNJ2",
        "colab_type": "code",
        "outputId": "3b99b20e-b4b5-43ca-935a-22f146abbca5",
        "colab": {
          "base_uri": "https://localhost:8080/",
          "height": 36
        }
      },
      "source": [
        "!ls"
      ],
      "execution_count": 0,
      "outputs": [
        {
          "output_type": "stream",
          "text": [
            "Data  Data_samples.zip\tsample_data\n"
          ],
          "name": "stdout"
        }
      ]
    },
    {
      "cell_type": "markdown",
      "metadata": {
        "id": "PAE4O-fK-RW2",
        "colab_type": "text"
      },
      "source": [
        "#Importing and Testing the VGGish System"
      ]
    },
    {
      "cell_type": "markdown",
      "metadata": {
        "id": "IKSLc0bIB1QS",
        "colab_type": "text"
      },
      "source": [
        "Based on the directions at: https://github.com/tensorflow/models/tree/master/research/audioset"
      ]
    },
    {
      "cell_type": "code",
      "metadata": {
        "id": "O1YVQb-MBiUx",
        "colab_type": "code",
        "colab": {}
      },
      "source": [
        "!pip install resampy tensorflow-gpu==1.15.0 tf_slim six soundfile\n",
        "#%tensorflow_version 1.x"
      ],
      "execution_count": 0,
      "outputs": []
    },
    {
      "cell_type": "code",
      "metadata": {
        "id": "bwZsuS6Gb7hB",
        "colab_type": "code",
        "colab": {}
      },
      "source": [
        "import pandas as pd\n",
        "import numpy as np\n",
        "import matplotlib.pyplot as plt  \n",
        "import IPython.display as ipd  \n",
        "import librosa\n",
        "import tensorflow as tf"
      ],
      "execution_count": 0,
      "outputs": []
    },
    {
      "cell_type": "code",
      "metadata": {
        "id": "kN7yMJ3BBu_Q",
        "colab_type": "code",
        "outputId": "a103d712-255d-4eaa-d92f-7cb01d5e9e45",
        "colab": {
          "base_uri": "https://localhost:8080/",
          "height": 172
        }
      },
      "source": [
        "!git clone https://github.com/tensorflow/models.git"
      ],
      "execution_count": 0,
      "outputs": [
        {
          "output_type": "stream",
          "text": [
            "Cloning into 'models'...\n",
            "remote: Enumerating objects: 8, done.\u001b[K\n",
            "remote: Counting objects: 100% (8/8), done.\u001b[K\n",
            "remote: Compressing objects: 100% (8/8), done.\u001b[K\n",
            "remote: Total 34447 (delta 0), reused 0 (delta 0), pack-reused 34439\n",
            "Receiving objects: 100% (34447/34447), 512.57 MiB | 33.21 MiB/s, done.\n",
            "Resolving deltas: 100% (22252/22252), done.\n",
            "Checking out files: 100% (2499/2499), done.\n"
          ],
          "name": "stdout"
        }
      ]
    },
    {
      "cell_type": "code",
      "metadata": {
        "id": "7CVgYDQ2CG4K",
        "colab_type": "code",
        "outputId": "1a26c1b9-4fd2-4aa6-c68a-765554e97e75",
        "colab": {
          "base_uri": "https://localhost:8080/",
          "height": 133
        }
      },
      "source": [
        "# Grab the VGGish model\n",
        "!curl -O https://storage.googleapis.com/audioset/vggish_model.ckpt\n",
        "!curl -O https://storage.googleapis.com/audioset/vggish_pca_params.npz"
      ],
      "execution_count": 0,
      "outputs": [
        {
          "output_type": "stream",
          "text": [
            "  % Total    % Received % Xferd  Average Speed   Time    Time     Time  Current\n",
            "                                 Dload  Upload   Total   Spent    Left  Speed\n",
            "100  277M  100  277M    0     0  60.3M      0  0:00:04  0:00:04 --:--:-- 83.6M\n",
            "  % Total    % Received % Xferd  Average Speed   Time    Time     Time  Current\n",
            "                                 Dload  Upload   Total   Spent    Left  Speed\n",
            "100 73020  100 73020    0     0   460k      0 --:--:-- --:--:-- --:--:--  460k\n"
          ],
          "name": "stdout"
        }
      ]
    },
    {
      "cell_type": "code",
      "metadata": {
        "id": "oApFn6gzCvsa",
        "colab_type": "code",
        "outputId": "ec3e6142-945d-4fa3-edbe-0da5e84952f2",
        "colab": {
          "base_uri": "https://localhost:8080/",
          "height": 133
        }
      },
      "source": [
        "# Copy the source files to the current directory.\n",
        "!cp -a models/research/audioset/. .\n",
        "!cp vggish/* ./\n",
        "!ls"
      ],
      "execution_count": 0,
      "outputs": [
        {
          "output_type": "stream",
          "text": [
            "Data\t\t  vggish\t\t    vggish_postprocess.py\n",
            "Data_samples.zip  vggish_inference_demo.py  vggish_slim.py\n",
            "mel_features.py   vggish_input.py\t    vggish_smoke_test.py\n",
            "models\t\t  vggish_model.ckpt\t    vggish_train_demo.py\n",
            "README.md\t  vggish_params.py\t    yamnet\n",
            "sample_data\t  vggish_pca_params.npz\n"
          ],
          "name": "stdout"
        }
      ]
    },
    {
      "cell_type": "code",
      "metadata": {
        "id": "9BKF-1dzDhnz",
        "colab_type": "code",
        "outputId": "e6c0270f-2fb2-4c3a-85aa-dd6aec0585e0",
        "colab": {
          "base_uri": "https://localhost:8080/",
          "height": 1000
        }
      },
      "source": [
        "# Run the test, which also loads all the necessary functions.\n",
        "import vggish_slim\n",
        "import vggish_params\n",
        "import vggish_input\n",
        "from vggish_smoke_test import *"
      ],
      "execution_count": 0,
      "outputs": [
        {
          "output_type": "stream",
          "text": [
            "WARNING: Logging before flag parsing goes to stderr.\n",
            "W0505 18:56:43.999326 139642713352064 deprecation.py:323] From /usr/local/lib/python2.7/dist-packages/tensorflow_core/python/compat/v2_compat.py:68: disable_resource_variables (from tensorflow.python.ops.variable_scope) is deprecated and will be removed in a future version.\n",
            "Instructions for updating:\n",
            "non-resource variables are not supported in the long term\n"
          ],
          "name": "stderr"
        },
        {
          "output_type": "stream",
          "text": [
            "\n",
            "Testing your install of VGGish\n",
            "\n"
          ],
          "name": "stdout"
        },
        {
          "output_type": "stream",
          "text": [
            "W0505 18:56:45.424516 139642713352064 deprecation.py:323] From /usr/local/lib/python2.7/dist-packages/tensorflow_core/contrib/layers/python/layers/layers.py:1057: apply (from tensorflow.python.keras.engine.base_layer) is deprecated and will be removed in a future version.\n",
            "Instructions for updating:\n",
            "Please use `layer.__call__` method instead.\n"
          ],
          "name": "stderr"
        },
        {
          "output_type": "stream",
          "text": [
            "Log Mel Spectrogram example:  [[-4.47297436 -4.29457354 -4.14940631 ... -3.9747003  -3.94774997\n",
            "  -3.78687669]\n",
            " [-4.48589533 -4.28825497 -4.139964   ... -3.98368686 -3.94976505\n",
            "  -3.7951698 ]\n",
            " [-4.46158065 -4.29329706 -4.14905953 ... -3.96442484 -3.94895483\n",
            "  -3.78619839]\n",
            " ...\n",
            " [-4.46152626 -4.29365061 -4.14848608 ... -3.96638113 -3.95057575\n",
            "  -3.78538167]\n",
            " [-4.46152595 -4.2936572  -4.14848104 ... -3.96640507 -3.95059567\n",
            "  -3.78537143]\n",
            " [-4.46152565 -4.29366386 -4.14847603 ... -3.96642906 -3.95061564\n",
            "  -3.78536116]]\n"
          ],
          "name": "stdout"
        },
        {
          "output_type": "stream",
          "text": [
            "W0505 18:56:45.544507 139642713352064 deprecation.py:323] From /usr/local/lib/python2.7/dist-packages/tensorflow_core/contrib/layers/python/layers/layers.py:1634: flatten (from tensorflow.python.layers.core) is deprecated and will be removed in a future version.\n",
            "Instructions for updating:\n",
            "Use keras.layers.flatten instead.\n"
          ],
          "name": "stderr"
        },
        {
          "output_type": "stream",
          "text": [
            "VGGish embedding:  [0.         0.         0.         0.         0.         0.\n",
            " 0.         0.16137294 0.         0.         0.         0.\n",
            " 0.         0.         0.         0.         0.         0.80695784\n",
            " 0.         0.         0.         0.         0.         0.\n",
            " 0.         0.36792755 0.03582418 0.         0.         0.\n",
            " 0.         0.38027036 0.13755938 0.9174708  0.80656356 0.\n",
            " 0.         0.         0.         0.04036269 0.7076244  0.\n",
            " 0.4978391  0.24081807 0.21565425 0.884923   1.1956801  0.67061985\n",
            " 0.2077946  0.01639876 0.17471859 0.         0.         0.25100812\n",
            " 0.         0.         0.14607906 0.         0.39887053 0.30542108\n",
            " 0.1289675  0.         0.         0.         0.         0.\n",
            " 0.5385135  0.         0.         0.04941082 0.42527413 0.18537286\n",
            " 0.         0.         0.1475353  0.         0.         0.6993387\n",
            " 0.45541185 0.05174828 0.         0.01992539 0.         0.\n",
            " 0.5181578  0.56557596 0.6587975  0.         0.         0.41056335\n",
            " 0.         0.         0.         0.25765198 0.23232105 0.24026453\n",
            " 0.         0.         0.         0.         0.         0.2652375\n",
            " 0.         0.48460817 0.         0.         0.19325784 0.\n",
            " 0.20123352 0.         0.03368617 0.         0.         0.\n",
            " 0.         0.17836353 0.024749   0.06889973 0.         0.\n",
            " 0.         0.08246295 0.         0.         0.         0.\n",
            " 0.         0.        ]\n",
            "Postprocessed VGGish embedding:  [169  10 154 127 191  66 124  69 157 232 142  21 128 131  43   3  33 111\n",
            " 198 153  76 255 194  60  71 179 146 131 167  60  79  76 192  84 102 160\n",
            "  23  91 173  13 149 186 115 202 252 163  84 145 107 255   5 198  81   0\n",
            " 203 110  35 104 101 131 255   0   0 158 136  74 115 152  77 154  54 151\n",
            "  82 243  57 116 165 153  85 181 152   0 255 122  29 255  46 105 110  43\n",
            "   0  90  58  13 255 108  96 255  84 121 255  75 176 111 176  64  83 231\n",
            " 255  82 255  94  81 144  99 173 255   0   0 158  31 230 112 255   0 255\n",
            "  20 255]\n",
            "\n",
            "Looks Good To Me!\n",
            "\n"
          ],
          "name": "stdout"
        }
      ]
    },
    {
      "cell_type": "code",
      "metadata": {
        "id": "_7t20mo27zKf",
        "colab_type": "code",
        "colab": {}
      },
      "source": [
        "def CreateVGGishNetwork(hop_size=0.96):   # Hop size is in seconds.\n",
        "  \"\"\"Define VGGish model, load the checkpoint, and return a dictionary that points\n",
        "  to the different tensors defined by the model.\n",
        "  \"\"\"\n",
        "  vggish_slim.define_vggish_slim()\n",
        "  checkpoint_path = 'vggish_model.ckpt'\n",
        "  vggish_params.EXAMPLE_HOP_SECONDS = hop_size\n",
        "  \n",
        "  vggish_slim.load_vggish_slim_checkpoint(sess, checkpoint_path)\n",
        "\n",
        "  features_tensor = sess.graph.get_tensor_by_name(\n",
        "      vggish_params.INPUT_TENSOR_NAME)\n",
        "  embedding_tensor = sess.graph.get_tensor_by_name(\n",
        "      vggish_params.OUTPUT_TENSOR_NAME)\n",
        "\n",
        "  layers = {'conv1': 'vggish/conv1/Relu',\n",
        "            'pool1': 'vggish/pool1/MaxPool',\n",
        "            'conv2': 'vggish/conv2/Relu',\n",
        "            'pool2': 'vggish/pool2/MaxPool',\n",
        "            'conv3': 'vggish/conv3/conv3_2/Relu',\n",
        "            'pool3': 'vggish/pool3/MaxPool',\n",
        "            'conv4': 'vggish/conv4/conv4_2/Relu',\n",
        "            'pool4': 'vggish/pool4/MaxPool',\n",
        "            'fc1': 'vggish/fc1/fc1_2/Relu',\n",
        "            'fc2': 'vggish/fc2/Relu',\n",
        "            'embedding': 'vggish/embedding',\n",
        "            'features': 'vggish/input_features',\n",
        "         }\n",
        "  g = tf.get_default_graph()\n",
        "  for k in layers:\n",
        "    layers[k] = g.get_tensor_by_name( layers[k] + ':0')\n",
        "    \n",
        "  return {'features': features_tensor,\n",
        "          'embedding': embedding_tensor,\n",
        "          'layers': layers,\n",
        "         }\n",
        "\n",
        "\"\"\"\n",
        "THERE IS A VERSION TO GET EMBEDDINGS FROM EVERY LAYER BUT MAKES THE PROCESS TOO SLOW\n",
        "THERE IS A VERSION FOR WHITENING AND COMPLIANCE WITH 8M-YOUTUBE FORMAT IN THE ORIGINAL NOTEBOOK\n",
        "\"\"\"\n",
        "\n",
        "def EmbeddingsFromVGGish(vgg, x, sr):\n",
        "  '''Run the VGGish model, starting with a sound (x) at sample rate\n",
        "  (sr). Return a dictionary of embeddings from the different layers\n",
        "  of the model.'''\n",
        "  # Produce a batch of log mel spectrogram examples.\n",
        "  input_batch = vggish_input.waveform_to_examples(x, sr)\n",
        "  # print('Log Mel Spectrogram example: ', input_batch[0])\n",
        "  \n",
        "  [embedding_batch] = sess.run([vgg['embedding']],\n",
        "                               feed_dict={vgg['features']: input_batch})\n",
        "    \n",
        "  return embedding_batch"
      ],
      "execution_count": 0,
      "outputs": []
    },
    {
      "cell_type": "code",
      "metadata": {
        "id": "67EWjWoo9G6g",
        "colab_type": "code",
        "colab": {}
      },
      "source": [
        "# Create VGGish model\n",
        "HOP_SIZE = 0.01\n",
        "tf.reset_default_graph()\n",
        "sess = tf.Session()\n",
        "vgg = CreateVGGishNetwork(HOP_SIZE)"
      ],
      "execution_count": 0,
      "outputs": []
    },
    {
      "cell_type": "markdown",
      "metadata": {
        "id": "JlFWzFsS-ry7",
        "colab_type": "text"
      },
      "source": [
        "#Using the VGGish System"
      ]
    },
    {
      "cell_type": "markdown",
      "metadata": {
        "id": "yy3uCMEdZzz6",
        "colab_type": "text"
      },
      "source": [
        "### Test the VGGish model"
      ]
    },
    {
      "cell_type": "code",
      "metadata": {
        "id": "bxX9qpT2cK-q",
        "colab_type": "code",
        "outputId": "23ff6ebc-b2ca-4f5d-9223-de21eda9a2ad",
        "colab": {
          "base_uri": "https://localhost:8080/",
          "height": 36
        }
      },
      "source": [
        "SAMPLE_RATE = 16000\n",
        "fname_f = './Data/LibriSpeech/train/sample/78/369/78-369-0045.flac'\n",
        "x, sr = librosa.load(fname_f, sr=SAMPLE_RATE, duration = 3, offset= 7, res_type='kaiser_fast') # Chopping audio\n",
        "\n",
        "x.shape"
      ],
      "execution_count": 38,
      "outputs": [
        {
          "output_type": "execute_result",
          "data": {
            "text/plain": [
              "(48000,)"
            ]
          },
          "metadata": {
            "tags": []
          },
          "execution_count": 38
        }
      ]
    },
    {
      "cell_type": "code",
      "metadata": {
        "id": "yR1qx-uvbPLG",
        "colab_type": "code",
        "outputId": "d0485efd-0ba3-4f02-8ff6-cb527e8d10c4",
        "colab": {
          "base_uri": "https://localhost:8080/",
          "height": 75
        }
      },
      "source": [
        "embedding_batch = EmbeddingsFromVGGish(vgg, x, sr)\n",
        "print(embedding_batch.shape)\n",
        "print(embedding_batch.min())\n",
        "print(embedding_batch.max())"
      ],
      "execution_count": 39,
      "outputs": [
        {
          "output_type": "stream",
          "text": [
            "(203, 128)\n",
            "0.0\n",
            "1.8295795\n"
          ],
          "name": "stdout"
        }
      ]
    },
    {
      "cell_type": "code",
      "metadata": {
        "id": "0E75V7FePwc4",
        "colab_type": "code",
        "outputId": "b8881f83-58a7-44ce-cd00-29536a621c0a",
        "colab": {
          "base_uri": "https://localhost:8080/",
          "height": 528
        }
      },
      "source": [
        "fig=plt.figure(figsize=(15,9))\n",
        "fig.patch.set_facecolor('white')\n",
        "plt.imshow(embedding_batch.T, \n",
        "           aspect='auto', cmap='viridis')\n",
        "plt.ylabel('Embedding Dimension')\n",
        "plt.xlabel('Time (frame number)')\n",
        "plt.title('Embedded Representation for Audio Example')\n",
        "plt.grid(False);"
      ],
      "execution_count": 45,
      "outputs": [
        {
          "output_type": "display_data",
          "data": {
            "image/png": "[encoded data removed]",
            "text/plain": [
              "<Figure size 1080x648 with 1 Axes>"
            ]
          },
          "metadata": {
            "tags": []
          }
        }
      ]
    },
    {
      "cell_type": "markdown",
      "metadata": {
        "id": "A6-PcpXIZwhC",
        "colab_type": "text"
      },
      "source": [
        "### Train set"
      ]
    },
    {
      "cell_type": "code",
      "metadata": {
        "id": "mWumIn4t76FI",
        "colab_type": "code",
        "outputId": "a056c08d-4df1-4cf8-f326-c825678e3683",
        "colab": {
          "base_uri": "https://localhost:8080/",
          "height": 226
        }
      },
      "source": [
        "# Get embeddings from our training set\n",
        "train_tree = pd.read_csv('./Data/LibriSpeech/train/tree-sample.txt', \n",
        "                      names=['ID_reader', 'ID_chapter', 'Audio_file'],\n",
        "                      sep='/',\n",
        "                      header=None)\n",
        "ipd.display(train_tree.head())\n",
        "ipd.display(train_tree.shape)"
      ],
      "execution_count": 0,
      "outputs": [
        {
          "output_type": "display_data",
          "data": {
            "text/plain": [
              "   ID_reader  ID_chapter          Audio_file\n",
              "0        103        1240  103-1240-0000.flac\n",
              "1        103        1240  103-1240-0001.flac\n",
              "2        103        1240  103-1240-0002.flac\n",
              "3        103        1240  103-1240-0003.flac\n",
              "4        103        1240  103-1240-0004.flac"
            ],
            "text/html": [
              "<div>\n",
              "<style scoped>\n",
              "    .dataframe tbody tr th:only-of-type {\n",
              "        vertical-align: middle;\n",
              "    }\n",
              "\n",
              "    .dataframe tbody tr th {\n",
              "        vertical-align: top;\n",
              "    }\n",
              "\n",
              "    .dataframe thead th {\n",
              "        text-align: right;\n",
              "    }\n",
              "</style>\n",
              "<table border=\"1\" class=\"dataframe\">\n",
              "  <thead>\n",
              "    <tr style=\"text-align: right;\">\n",
              "      <th></th>\n",
              "      <th>ID_reader</th>\n",
              "      <th>ID_chapter</th>\n",
              "      <th>Audio_file</th>\n",
              "    </tr>\n",
              "  </thead>\n",
              "  <tbody>\n",
              "    <tr>\n",
              "      <th>0</th>\n",
              "      <td>103</td>\n",
              "      <td>1240</td>\n",
              "      <td>103-1240-0000.flac</td>\n",
              "    </tr>\n",
              "    <tr>\n",
              "      <th>1</th>\n",
              "      <td>103</td>\n",
              "      <td>1240</td>\n",
              "      <td>103-1240-0001.flac</td>\n",
              "    </tr>\n",
              "    <tr>\n",
              "      <th>2</th>\n",
              "      <td>103</td>\n",
              "      <td>1240</td>\n",
              "      <td>103-1240-0002.flac</td>\n",
              "    </tr>\n",
              "    <tr>\n",
              "      <th>3</th>\n",
              "      <td>103</td>\n",
              "      <td>1240</td>\n",
              "      <td>103-1240-0003.flac</td>\n",
              "    </tr>\n",
              "    <tr>\n",
              "      <th>4</th>\n",
              "      <td>103</td>\n",
              "      <td>1240</td>\n",
              "      <td>103-1240-0004.flac</td>\n",
              "    </tr>\n",
              "  </tbody>\n",
              "</table>\n",
              "</div>"
            ]
          },
          "metadata": {
            "tags": []
          }
        },
        {
          "output_type": "display_data",
          "data": {
            "text/plain": [
              "(9070, 3)"
            ]
          },
          "metadata": {
            "tags": []
          }
        }
      ]
    },
    {
      "cell_type": "code",
      "metadata": {
        "id": "QY7tyONu8vQJ",
        "colab_type": "code",
        "outputId": "3f944180-d5fb-4465-d784-52c78de7f4f0",
        "colab": {
          "base_uri": "https://localhost:8080/",
          "height": 56
        }
      },
      "source": [
        "SAMPLE_RATE = 16000\n",
        "AUDIO_DURATION = 3\n",
        "input_length_raw = int(SAMPLE_RATE * AUDIO_DURATION)\n",
        "\n",
        "X_train = []\n",
        "y_train = []\n",
        "\n",
        "for index, row in train_tree.iterrows():\n",
        "        file_path = './Data/LibriSpeech/train/sample/' + str(row['ID_reader']) + '/' + str(row['ID_chapter']) + '/' + str(row['Audio_file'])\n",
        "        data, _ = librosa.core.load(file_path, sr=SAMPLE_RATE, res_type=\"kaiser_fast\")\n",
        "        n_segments = data.shape[0]//input_length_raw\n",
        "        for j in range(n_segments):\n",
        "            audio_segment = data[j*input_length_raw:(j+1)*input_length_raw]\n",
        "            \n",
        "            vggish_emb = EmbeddingsFromVGGish(vgg, audio_segment, SAMPLE_RATE)\n",
        "            X_train.append(vggish_emb)\n",
        "\n",
        "            y_train.append(row['ID_reader'])\n",
        "X_train = np.array(X_train)\n",
        "X_train = X_train[:,:,:,np.newaxis]\n",
        "y_train = np.array(y_train)\n",
        "\n",
        "print(X_train.shape)\n",
        "print(y_train.shape)"
      ],
      "execution_count": 0,
      "outputs": [
        {
          "output_type": "stream",
          "text": [
            "(33346, 21, 128)\n",
            "(33346,)\n"
          ],
          "name": "stdout"
        }
      ]
    },
    {
      "cell_type": "code",
      "metadata": {
        "id": "OPD4tAniFJY4",
        "colab_type": "code",
        "colab": {}
      },
      "source": [
        "np.save('X_train.npy', X_train)\n",
        "np.save('y_train.npy', y_train)"
      ],
      "execution_count": 0,
      "outputs": []
    },
    {
      "cell_type": "markdown",
      "metadata": {
        "id": "u_8Tq5QfZ62w",
        "colab_type": "text"
      },
      "source": [
        "### Test set"
      ]
    },
    {
      "cell_type": "code",
      "metadata": {
        "id": "z8l3fRvlZ8FV",
        "colab_type": "code",
        "outputId": "eba0ceee-ad0c-41b0-9739-52e0de1d6ddb",
        "colab": {
          "base_uri": "https://localhost:8080/",
          "height": 226
        }
      },
      "source": [
        "# Get embeddings from our testing set\n",
        "test_tree = pd.read_csv('./Data/LibriSpeech/val/tree-dev-clean.txt', \n",
        "                      names=['ID_reader', 'ID_chapter', 'Audio_file'],\n",
        "                      sep='/',\n",
        "                      header=None)\n",
        "\n",
        "ipd.display(test_tree.head())\n",
        "ipd.display(test_tree.shape)"
      ],
      "execution_count": 0,
      "outputs": [
        {
          "output_type": "display_data",
          "data": {
            "text/plain": [
              "   ID_reader  ID_chapter             Audio_file\n",
              "0       1272      128104  1272-128104-0000.flac\n",
              "1       1272      128104  1272-128104-0001.flac\n",
              "2       1272      128104  1272-128104-0002.flac\n",
              "3       1272      128104  1272-128104-0003.flac\n",
              "4       1272      128104  1272-128104-0004.flac"
            ],
            "text/html": [
              "<div>\n",
              "<style scoped>\n",
              "    .dataframe tbody tr th:only-of-type {\n",
              "        vertical-align: middle;\n",
              "    }\n",
              "\n",
              "    .dataframe tbody tr th {\n",
              "        vertical-align: top;\n",
              "    }\n",
              "\n",
              "    .dataframe thead th {\n",
              "        text-align: right;\n",
              "    }\n",
              "</style>\n",
              "<table border=\"1\" class=\"dataframe\">\n",
              "  <thead>\n",
              "    <tr style=\"text-align: right;\">\n",
              "      <th></th>\n",
              "      <th>ID_reader</th>\n",
              "      <th>ID_chapter</th>\n",
              "      <th>Audio_file</th>\n",
              "    </tr>\n",
              "  </thead>\n",
              "  <tbody>\n",
              "    <tr>\n",
              "      <th>0</th>\n",
              "      <td>1272</td>\n",
              "      <td>128104</td>\n",
              "      <td>1272-128104-0000.flac</td>\n",
              "    </tr>\n",
              "    <tr>\n",
              "      <th>1</th>\n",
              "      <td>1272</td>\n",
              "      <td>128104</td>\n",
              "      <td>1272-128104-0001.flac</td>\n",
              "    </tr>\n",
              "    <tr>\n",
              "      <th>2</th>\n",
              "      <td>1272</td>\n",
              "      <td>128104</td>\n",
              "      <td>1272-128104-0002.flac</td>\n",
              "    </tr>\n",
              "    <tr>\n",
              "      <th>3</th>\n",
              "      <td>1272</td>\n",
              "      <td>128104</td>\n",
              "      <td>1272-128104-0003.flac</td>\n",
              "    </tr>\n",
              "    <tr>\n",
              "      <th>4</th>\n",
              "      <td>1272</td>\n",
              "      <td>128104</td>\n",
              "      <td>1272-128104-0004.flac</td>\n",
              "    </tr>\n",
              "  </tbody>\n",
              "</table>\n",
              "</div>"
            ]
          },
          "metadata": {
            "tags": []
          }
        },
        {
          "output_type": "display_data",
          "data": {
            "text/plain": [
              "(2703, 3)"
            ]
          },
          "metadata": {
            "tags": []
          }
        }
      ]
    },
    {
      "cell_type": "code",
      "metadata": {
        "id": "_MDde52bZRGh",
        "colab_type": "code",
        "outputId": "7294187d-b851-47a0-f35d-ec355fcf8aa0",
        "colab": {
          "base_uri": "https://localhost:8080/",
          "height": 56
        }
      },
      "source": [
        "SAMPLE_RATE = 16000\n",
        "AUDIO_DURATION = 3\n",
        "input_length_raw = int(SAMPLE_RATE * AUDIO_DURATION)\n",
        "\n",
        "X_test = []\n",
        "y_test = []\n",
        "\n",
        "for index, row in test_tree.iterrows():\n",
        "        file_path = './Data/LibriSpeech/val/dev-clean/' + str(row['ID_reader']) + '/' + str(row['ID_chapter']) + '/' + str(row['Audio_file'])\n",
        "        data, _ = librosa.core.load(file_path, sr=SAMPLE_RATE, res_type=\"kaiser_fast\")\n",
        "        n_segments = data.shape[0]//input_length_raw\n",
        "        for j in range(n_segments):\n",
        "            audio_segment = data[j*input_length_raw:(j+1)*input_length_raw]\n",
        "            \n",
        "            vggish_emb = EmbeddingsFromVGGish(vgg, audio_segment, SAMPLE_RATE)\n",
        "            X_test.append(vggish_emb)\n",
        "\n",
        "            y_test.append(row['ID_reader'])\n",
        "X_test = np.array(X_test)\n",
        "X_test = X_test[:,:,:,np.newaxis]\n",
        "y_test = np.array(y_test)\n",
        "\n",
        "print(X_test.shape)\n",
        "print(y_test.shape)"
      ],
      "execution_count": 0,
      "outputs": [
        {
          "output_type": "stream",
          "text": [
            "(5067, 21, 128)\n",
            "(5067,)\n"
          ],
          "name": "stdout"
        }
      ]
    },
    {
      "cell_type": "code",
      "metadata": {
        "id": "fZIEPelIZTQW",
        "colab_type": "code",
        "colab": {}
      },
      "source": [
        "np.save('X_test.npy', X_test)\n",
        "np.save('y_test.npy', y_test)"
      ],
      "execution_count": 0,
      "outputs": []
    },
    {
      "cell_type": "code",
      "metadata": {
        "id": "RjdoVpmgSZ4t",
        "colab_type": "code",
        "colab": {}
      },
      "source": [
        "!cp X_train.npy '/content/drive/My Drive/DLAS/'\n",
        "!cp y_train.npy '/content/drive/My Drive/DLAS/'\n",
        "!cp X_test.npy '/content/drive/My Drive/DLAS/'\n",
        "!cp y_test.npy '/content/drive/My Drive/DLAS/'"
      ],
      "execution_count": 0,
      "outputs": []
    }
  ]
}